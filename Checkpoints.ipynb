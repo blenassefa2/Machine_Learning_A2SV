{
  "cells": [
    {
      "cell_type": "markdown",
      "metadata": {
        "id": "view-in-github",
        "colab_type": "text"
      },
      "source": [
        "<a href=\"https://colab.research.google.com/github/blenassefa2/Machine_Learning_A2SV/blob/main/Checkpoints.ipynb\" target=\"_parent\"><img src=\"https://colab.research.google.com/assets/colab-badge.svg\" alt=\"Open In Colab\"/></a>"
      ]
    },
    {
      "cell_type": "markdown",
      "id": "70d68298",
      "metadata": {
        "id": "70d68298"
      },
      "source": [
        "# Checkpoints"
      ]
    },
    {
      "cell_type": "markdown",
      "id": "67d0260a",
      "metadata": {
        "id": "67d0260a"
      },
      "source": [
        "**CP1**:\n",
        "Given the list $[A, B, C]$, use the `itertools` module to generate all possible\n",
        "combinations of 2 elements.\n",
        "\n",
        "**Expected Output**:\n",
        "$$\n",
        " (A, B) \\\\\n",
        " (A, C) \\\\\n",
        " (B, C)\n",
        "$$"
      ]
    },
    {
      "cell_type": "code",
      "execution_count": 1,
      "id": "9dd63d67",
      "metadata": {
        "id": "9dd63d67",
        "outputId": "661e3c65-ce2e-4c46-96b9-faac98e84521",
        "colab": {
          "base_uri": "https://localhost:8080/"
        }
      },
      "outputs": [
        {
          "output_type": "stream",
          "name": "stdout",
          "text": [
            "[('A', 'B'), ('A', 'C'), ('B', 'C')]\n"
          ]
        }
      ],
      "source": [
        "import itertools\n",
        "\n",
        "lst = ['A', 'B', 'C']\n",
        "combinations = list(itertools.combinations(lst, 2))\n",
        "\n",
        "print(combinations)\n"
      ]
    },
    {
      "cell_type": "markdown",
      "id": "31c15dce",
      "metadata": {
        "id": "31c15dce"
      },
      "source": [
        "**CP2**:\n",
        "Use the `itertools` module to create a sequence that cycles through\n",
        "['Python', 'is', 'fun'] infinitely. Print the first 10 elements of the sequence.\n",
        "\n",
        "**Expected Output**:\n",
        "$$\n",
        "Python \\\\\n",
        "is\\\\\n",
        "fun\\\\\n",
        "Python\\\\\n",
        "is\\\\\n",
        "fun\\\\\n",
        "Python\\\\\n",
        "is\\\\\n",
        "fun\\\\\n",
        "Python\n",
        "$$"
      ]
    },
    {
      "cell_type": "code",
      "execution_count": 2,
      "id": "c75f246c",
      "metadata": {
        "id": "c75f246c",
        "outputId": "9ff6d21e-676f-4f34-c822-ba7caa071d15",
        "colab": {
          "base_uri": "https://localhost:8080/"
        }
      },
      "outputs": [
        {
          "output_type": "stream",
          "name": "stdout",
          "text": [
            "Python\n",
            "is\n",
            "fun\n",
            "Python\n",
            "is\n",
            "fun\n",
            "Python\n",
            "is\n",
            "fun\n",
            "Python\n"
          ]
        }
      ],
      "source": [
        "import itertools\n",
        "\n",
        "sequence = itertools.cycle(['Python', 'is', 'fun'])\n",
        "\n",
        "for _ in range(10):\n",
        "    element = next(sequence)\n",
        "    print(element)\n"
      ]
    },
    {
      "cell_type": "markdown",
      "id": "cbef0f63",
      "metadata": {
        "id": "cbef0f63"
      },
      "source": [
        "**CP3**:\n",
        "Use the `glob` module to list all python (.py) files in your current working directory.\n",
        "\n",
        "\n"
      ]
    },
    {
      "cell_type": "code",
      "execution_count": 3,
      "id": "3e62d5b4",
      "metadata": {
        "id": "3e62d5b4"
      },
      "outputs": [],
      "source": [
        "import glob\n",
        "\n",
        "python_files = glob.glob(\"*.py\")\n",
        "\n",
        "for file in python_files:\n",
        "    print(file)\n"
      ]
    },
    {
      "cell_type": "markdown",
      "id": "d266d698",
      "metadata": {
        "id": "d266d698"
      },
      "source": [
        "**CP4**: You are given the following HTML content below. Write a function that uses BeautifulSoup to parse the HTML and extract the text inside the   '$<p>$'   tag.\n"
      ]
    },
    {
      "cell_type": "code",
      "execution_count": 5,
      "id": "27f941c8",
      "metadata": {
        "id": "27f941c8"
      },
      "outputs": [],
      "source": [
        "#<html><body><div class='main'><h1>Welcome to AI</h1><p>AI is transforming the world</p></div></body></html>"
      ]
    },
    {
      "cell_type": "code",
      "execution_count": 4,
      "id": "6fb1cdcf",
      "metadata": {
        "id": "6fb1cdcf",
        "outputId": "c662eca0-b781-45df-82be-7e72fe08c304",
        "colab": {
          "base_uri": "https://localhost:8080/"
        }
      },
      "outputs": [
        {
          "output_type": "stream",
          "name": "stdout",
          "text": [
            "['AI is transforming the world']\n"
          ]
        }
      ],
      "source": [
        "from bs4 import BeautifulSoup\n",
        "\n",
        "def extract_paragraph_text(html_content):\n",
        "    soup = BeautifulSoup(html_content, 'html.parser')\n",
        "    paragraph_tags = soup.find_all('p')\n",
        "    text_list = [tag.get_text() for tag in paragraph_tags]\n",
        "    return text_list\n",
        "\n",
        "# Example usage\n",
        "html_content = \"<html><body><div class='main'><h1>Welcome to AI</h1><p>AI is transforming the world</p></div></body></html>\"\n",
        "paragraph_text = extract_paragraph_text(html_content)\n",
        "print(paragraph_text)\n"
      ]
    },
    {
      "cell_type": "markdown",
      "id": "a1fce3ef",
      "metadata": {
        "id": "a1fce3ef"
      },
      "source": [
        "**CP5**: Write a function that uses the re module to replace all occurrences of the word \"AI\" with \"Artificial Intelligence\" in a given text."
      ]
    },
    {
      "cell_type": "code",
      "execution_count": 6,
      "id": "07178a2d",
      "metadata": {
        "id": "07178a2d",
        "outputId": "7a4ac2ea-c49d-4481-c84b-4a2da1cca8e6",
        "colab": {
          "base_uri": "https://localhost:8080/"
        }
      },
      "outputs": [
        {
          "output_type": "stream",
          "name": "stdout",
          "text": [
            "Artificial Intelligence is changing the world. The field of Artificial Intelligence is rapidly advancing.\n"
          ]
        }
      ],
      "source": [
        "import re\n",
        "\n",
        "def replace_word(text):\n",
        "    updated_text = re.sub(r'\\bAI\\b', 'Artificial Intelligence', text)\n",
        "    return updated_text\n",
        "\n",
        "# Example usage\n",
        "text = \"AI is changing the world. The field of AI is rapidly advancing.\"\n",
        "updated_text = replace_word(text)\n",
        "print(updated_text)\n"
      ]
    },
    {
      "cell_type": "markdown",
      "id": "4e471de6",
      "metadata": {
        "id": "4e471de6"
      },
      "source": [
        "**CP6**: Create a numpy array of 10 zeros."
      ]
    },
    {
      "cell_type": "code",
      "execution_count": 7,
      "id": "7f6e9acb",
      "metadata": {
        "id": "7f6e9acb",
        "outputId": "a5c69af2-5c38-486e-bcd9-206941ddcd61",
        "colab": {
          "base_uri": "https://localhost:8080/"
        }
      },
      "outputs": [
        {
          "output_type": "stream",
          "name": "stdout",
          "text": [
            "[0. 0. 0. 0. 0. 0. 0. 0. 0. 0.]\n"
          ]
        }
      ],
      "source": [
        "import numpy as np\n",
        "\n",
        "zeros_array = np.zeros(10)\n",
        "\n",
        "print(zeros_array)\n"
      ]
    },
    {
      "cell_type": "markdown",
      "id": "5f52a63e",
      "metadata": {
        "id": "5f52a63e"
      },
      "source": [
        "**CP7** Create a numpy array of the integers from 10 to 49."
      ]
    },
    {
      "cell_type": "code",
      "execution_count": 8,
      "id": "ddb01e9a",
      "metadata": {
        "id": "ddb01e9a",
        "outputId": "94efb4df-3288-4fba-d1fc-08cdd04e448e",
        "colab": {
          "base_uri": "https://localhost:8080/"
        }
      },
      "outputs": [
        {
          "output_type": "stream",
          "name": "stdout",
          "text": [
            "[10 11 12 13 14 15 16 17 18 19 20 21 22 23 24 25 26 27 28 29 30 31 32 33\n",
            " 34 35 36 37 38 39 40 41 42 43 44 45 46 47 48 49]\n"
          ]
        }
      ],
      "source": [
        "import numpy as np\n",
        "\n",
        "array = np.arange(10, 50)\n",
        "\n",
        "print(array)\n"
      ]
    },
    {
      "cell_type": "markdown",
      "id": "79e4d614",
      "metadata": {
        "id": "79e4d614"
      },
      "source": [
        "**CP8**: Create a 3x3 numpy matrix, filled with values ranging from 0 to 8."
      ]
    },
    {
      "cell_type": "code",
      "execution_count": 9,
      "id": "d3eddea4",
      "metadata": {
        "id": "d3eddea4",
        "outputId": "031d85d8-d124-4f4c-b21d-d0713e062ac0",
        "colab": {
          "base_uri": "https://localhost:8080/"
        }
      },
      "outputs": [
        {
          "output_type": "stream",
          "name": "stdout",
          "text": [
            "[[0 1 2]\n",
            " [3 4 5]\n",
            " [6 7 8]]\n"
          ]
        }
      ],
      "source": [
        "import numpy as np\n",
        "\n",
        "matrix = np.arange(9).reshape((3, 3))\n",
        "\n",
        "print(matrix)\n"
      ]
    },
    {
      "cell_type": "markdown",
      "id": "1b09270f",
      "metadata": {
        "id": "1b09270f"
      },
      "source": [
        "**CP9**: Explain why machine learning models require large amounts of data? What does it mean for an amount of data to be **large**?"
      ]
    },
    {
      "cell_type": "code",
      "execution_count": null,
      "id": "a57e9726",
      "metadata": {
        "id": "a57e9726"
      },
      "outputs": [],
      "source": [
        "Machine learning models require large amounts of data for several reasons. Firstly, a large dataset provides more diverse examples, allowing the model to learn a wider range of patterns and variations in the data. This enhances the model's ability to generalize and make accurate predictions on new, unseen data. Secondly, a large dataset helps in training complex models with a large number of parameters. More data enables the model to capture intricate relationships and complex functions, improving its overall performance. Additionally, a large dataset reduces the risk of overfitting by preventing the model from memorizing the training data and instead focusing on learning more robust and generalizable patterns. In essence, a large dataset facilitates better generalization, improves model flexibility, and reduces the variance, leading to more accurate and reliable machine learning models."
      ]
    },
    {
      "cell_type": "markdown",
      "id": "1a357bde",
      "metadata": {
        "id": "1a357bde"
      },
      "source": [
        "**CP10**: Explain 2 ways AI can be used in an adverserial way, and what can be done to prevent it."
      ]
    },
    {
      "cell_type": "code",
      "execution_count": null,
      "id": "a9db70af",
      "metadata": {
        "id": "a9db70af"
      },
      "outputs": [],
      "source": [
        "AI can be used in adversarial ways, such as automating attack methods like denial-of-service attacks, and engaging in scams by impersonating real individuals or organizations. To prevent such adversarial use of AI, it is crucial to enhance our understanding of the technology and proactively address potential attack vectors. This includes investing in robust security measures, conducting regular vulnerability assessments, and promptly patching known vulnerabilities. Additionally, implementing rigorous authentication protocols, developing advanced anomaly detection systems, and fostering ethical AI practices can help prevent and mitigate the risks associated with adversarial AI applications."
      ]
    }
  ],
  "metadata": {
    "kernelspec": {
      "display_name": "Python 3 (ipykernel)",
      "language": "python",
      "name": "python3"
    },
    "language_info": {
      "codemirror_mode": {
        "name": "ipython",
        "version": 3
      },
      "file_extension": ".py",
      "mimetype": "text/x-python",
      "name": "python",
      "nbconvert_exporter": "python",
      "pygments_lexer": "ipython3",
      "version": "3.8.2"
    },
    "varInspector": {
      "cols": {
        "lenName": 16,
        "lenType": 16,
        "lenVar": 40
      },
      "kernels_config": {
        "python": {
          "delete_cmd_postfix": "",
          "delete_cmd_prefix": "del ",
          "library": "var_list.py",
          "varRefreshCmd": "print(var_dic_list())"
        },
        "r": {
          "delete_cmd_postfix": ") ",
          "delete_cmd_prefix": "rm(",
          "library": "var_list.r",
          "varRefreshCmd": "cat(var_dic_list()) "
        }
      },
      "types_to_exclude": [
        "module",
        "function",
        "builtin_function_or_method",
        "instance",
        "_Feature"
      ],
      "window_display": false
    },
    "colab": {
      "provenance": [],
      "include_colab_link": true
    }
  },
  "nbformat": 4,
  "nbformat_minor": 5
}